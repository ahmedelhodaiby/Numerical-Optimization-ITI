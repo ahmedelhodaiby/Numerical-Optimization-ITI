{
  "nbformat": 4,
  "nbformat_minor": 0,
  "metadata": {
    "interpreter": {
      "hash": "de8ed14e10c7a58008b18c18e654ce9db1d8e93561914c6007824b24847cd0f4"
    },
    "kernelspec": {
      "display_name": "Python 3.9.5 64-bit",
      "name": "python3"
    },
    "language_info": {
      "codemirror_mode": {
        "name": "ipython",
        "version": 3
      },
      "file_extension": ".py",
      "mimetype": "text/x-python",
      "name": "python",
      "nbconvert_exporter": "python",
      "pygments_lexer": "ipython3",
      "version": "3.9.5"
    },
    "colab": {
      "name": "Practical Session 1 GD Implementation for LR .ipynb",
      "provenance": [],
      "include_colab_link": true
    }
  },
  "cells": [
    {
      "cell_type": "markdown",
      "metadata": {
        "id": "view-in-github",
        "colab_type": "text"
      },
      "source": [
        "<a href=\"https://colab.research.google.com/github/ahmedelhodaiby/Numerical-Optimization-ITI/blob/main/Gradient_Descent_Implementation_for_Linear_Regression.ipynb\" target=\"_parent\"><img src=\"https://colab.research.google.com/assets/colab-badge.svg\" alt=\"Open In Colab\"/></a>"
      ]
    },
    {
      "cell_type": "markdown",
      "metadata": {
        "id": "5fER2krPnYsx"
      },
      "source": [
        "## Practical Work 1"
      ]
    },
    {
      "cell_type": "markdown",
      "metadata": {
        "id": "bnTWVilHnYs1"
      },
      "source": [
        "For this practical work, the student will have to develop a Python program that is able to implement the gradient descent in order to achieve the linear regression of a set of datapoints."
      ]
    },
    {
      "cell_type": "markdown",
      "metadata": {
        "id": "6azJAVlAnYs1"
      },
      "source": [
        "#### Import numpy, matplotlib.pyplot and make it inline"
      ]
    },
    {
      "cell_type": "code",
      "metadata": {
        "id": "y8tlwWEGnYs2"
      },
      "source": [
        "import numpy as np\n",
        "import matplotlib.pyplot as plt\n",
        "from sklearn.metrics import r2_score\n",
        "from sklearn.linear_model import LinearRegression\n",
        "\n",
        "%matplotlib inline"
      ],
      "execution_count": null,
      "outputs": []
    },
    {
      "cell_type": "markdown",
      "metadata": {
        "id": "WlyICY1hnYs3"
      },
      "source": [
        "#### Read RegData csv file into numpy array  (check your data)\n",
        "##### Data source\n",
        "https://college.cengage.com/mathematics/brase/understandable_statistics/7e/students/datasets/slr/frames/frame.html\n"
      ]
    },
    {
      "cell_type": "code",
      "metadata": {
        "id": "tkTvTTsEnYs3"
      },
      "source": [
        "data = np.genfromtxt(\"RegData.csv\", delimiter=\",\")"
      ],
      "execution_count": null,
      "outputs": []
    },
    {
      "cell_type": "markdown",
      "metadata": {
        "id": "iLrLkK-HnYs3"
      },
      "source": [
        "#### Explore your data"
      ]
    },
    {
      "cell_type": "code",
      "metadata": {
        "id": "sgUD5mdUnYs4",
        "outputId": "b68ee507-9601-4383-c858-d0a9c7044b50"
      },
      "source": [
        "data"
      ],
      "execution_count": null,
      "outputs": [
        {
          "output_type": "execute_result",
          "data": {
            "text/plain": [
              "array([[2.9000001 , 4.        ],\n",
              "       [6.69999981, 7.4000001 ],\n",
              "       [4.9000001 , 5.        ],\n",
              "       [7.9000001 , 7.19999981],\n",
              "       [9.80000019, 7.9000001 ],\n",
              "       [6.9000001 , 6.0999999 ],\n",
              "       [6.0999999 , 6.        ],\n",
              "       [6.19999981, 5.80000019],\n",
              "       [6.        , 5.19999981],\n",
              "       [5.0999999 , 4.19999981],\n",
              "       [4.69999981, 4.        ],\n",
              "       [4.4000001 , 4.4000001 ],\n",
              "       [5.80000019, 5.19999981]])"
            ]
          },
          "metadata": {
            "tags": []
          },
          "execution_count": 3
        }
      ]
    },
    {
      "cell_type": "markdown",
      "metadata": {
        "id": "moupjqAonYs5"
      },
      "source": [
        "#### Define variables X and y. Assign first column data to X and second column to y\n",
        "<b>Note:</b> X is the independent variable (input to LR model) and y is the dependent variable (output)"
      ]
    },
    {
      "cell_type": "code",
      "metadata": {
        "id": "VnpwkSxonYs5"
      },
      "source": [
        "x = data[:, 0]\n",
        "y = data[:, 1]"
      ],
      "execution_count": null,
      "outputs": []
    },
    {
      "cell_type": "markdown",
      "metadata": {
        "id": "Pdp_RbO1nYs6"
      },
      "source": [
        "#### Explore your data"
      ]
    },
    {
      "cell_type": "code",
      "metadata": {
        "id": "xetm4vY3nYs6",
        "outputId": "7ca06ad3-b789-48bd-f792-f730193c4cd3"
      },
      "source": [
        "x"
      ],
      "execution_count": null,
      "outputs": [
        {
          "output_type": "execute_result",
          "data": {
            "text/plain": [
              "array([2.9000001 , 6.69999981, 4.9000001 , 7.9000001 , 9.80000019,\n",
              "       6.9000001 , 6.0999999 , 6.19999981, 6.        , 5.0999999 ,\n",
              "       4.69999981, 4.4000001 , 5.80000019])"
            ]
          },
          "metadata": {
            "tags": []
          },
          "execution_count": 5
        }
      ]
    },
    {
      "cell_type": "code",
      "metadata": {
        "scrolled": true,
        "id": "oRfH9D2JnYs6",
        "outputId": "225a5e23-273c-4a15-f0c5-57fa2eac6123"
      },
      "source": [
        "y"
      ],
      "execution_count": null,
      "outputs": [
        {
          "output_type": "execute_result",
          "data": {
            "text/plain": [
              "array([4.        , 7.4000001 , 5.        , 7.19999981, 7.9000001 ,\n",
              "       6.0999999 , 6.        , 5.80000019, 5.19999981, 4.19999981,\n",
              "       4.        , 4.4000001 , 5.19999981])"
            ]
          },
          "metadata": {
            "tags": []
          },
          "execution_count": 6
        }
      ]
    },
    {
      "cell_type": "markdown",
      "metadata": {
        "id": "qDYlN8r2nYs7"
      },
      "source": [
        "#### Plot the original data (scatter plot of X,y)"
      ]
    },
    {
      "cell_type": "code",
      "metadata": {
        "id": "ffWnDvYPnYs7",
        "outputId": "4fff624f-36c9-450b-b9f4-dd4b40eb2e73"
      },
      "source": [
        "plt.scatter(x, y, marker='*')\n",
        "plt.show"
      ],
      "execution_count": null,
      "outputs": [
        {
          "output_type": "execute_result",
          "data": {
            "text/plain": [
              "<function matplotlib.pyplot.show(close=None, block=None)>"
            ]
          },
          "metadata": {
            "tags": []
          },
          "execution_count": 7
        },
        {
          "output_type": "display_data",
          "data": {
            "image/png": "[encoded data removed]",
            "text/plain": [
              "<Figure size 432x288 with 1 Axes>"
            ]
          },
          "metadata": {
            "tags": [],
            "needs_background": "light"
          }
        }
      ]
    },
    {
      "cell_type": "markdown",
      "metadata": {
        "id": "oNJTecACnYs7"
      },
      "source": [
        "## LR Full Implementation"
      ]
    },
    {
      "cell_type": "markdown",
      "metadata": {
        "id": "kPDa3_I9nYs8"
      },
      "source": [
        "### Step1: Initialize parameters (theta_0 & theta_1) with random value or simply zero. Also choose the Learning rate. "
      ]
    },
    {
      "cell_type": "markdown",
      "metadata": {
        "id": "xtZP9P5mnYs8"
      },
      "source": [
        "![image.png](attachment:image.png)"
      ]
    },
    {
      "cell_type": "code",
      "metadata": {
        "id": "iHpLmoAanYs8"
      },
      "source": [
        "theta0 = 0\n",
        "theta1 = 0\n",
        "learing_rate = 0.051"
      ],
      "execution_count": null,
      "outputs": []
    },
    {
      "cell_type": "markdown",
      "metadata": {
        "id": "oeB2PyBknYs8"
      },
      "source": [
        "### Step2: Use (theta_0 & theta_1) to predict the output h(x)= theta_0 + theta_1 * x.![image.png](attachment:image.png)\n",
        "#### Note: you will need to iterate through all data points"
      ]
    },
    {
      "cell_type": "code",
      "metadata": {
        "id": "CwzqYpVSnYs8"
      },
      "source": [
        "hypothesis = theta0 + theta1 * x"
      ],
      "execution_count": null,
      "outputs": []
    },
    {
      "cell_type": "markdown",
      "metadata": {
        "id": "tTIwRsgfnYs9"
      },
      "source": [
        "### Step3: Calculate Cost function 𝑱(theta_0,theta_1 ).\n",
        "\n",
        "![image.png](attachment:image.png)\n",
        "\n",
        "![image-2.png](attachment:image-2.png)"
      ]
    },
    {
      "cell_type": "code",
      "metadata": {
        "id": "-MAfJZVqnYs9"
      },
      "source": [
        "error = hypothesis - y\n",
        "cost = ((error)**2)/len(x)"
      ],
      "execution_count": null,
      "outputs": []
    },
    {
      "cell_type": "markdown",
      "metadata": {
        "id": "HrbCdNxYnYs9"
      },
      "source": [
        "### Step4: Calculate the gradient.![image.png](attachment:image.png)\n",
        "![image-2.png](attachment:image-2.png)"
      ]
    },
    {
      "cell_type": "code",
      "metadata": {
        "id": "ZvXXO6Z-nYs9"
      },
      "source": [
        "gradient_theta0 = (1/len(x))*sum(error)\n",
        "gradient_theta1 = (1/len(x))*sum((error) * x)"
      ],
      "execution_count": null,
      "outputs": []
    },
    {
      "cell_type": "markdown",
      "metadata": {
        "id": "0HduH7k7nYs9"
      },
      "source": [
        "### Step5: Update the parameters (simultaneously).![image.png](attachment:image.png)\n",
        "![image-2.png](attachment:image-2.png)"
      ]
    },
    {
      "cell_type": "code",
      "metadata": {
        "id": "86MRQrhdnYs9"
      },
      "source": [
        "theta0 = theta0 - learing_rate * gradient_theta0\n",
        "theta1 = theta1 - learing_rate * gradient_theta1"
      ],
      "execution_count": null,
      "outputs": []
    },
    {
      "cell_type": "markdown",
      "metadata": {
        "id": "K_Q-KUgJnYs-"
      },
      "source": [
        "### Step6: Repeat from 2 to 5 until converge to the minimum or achieve maximum iterations.![image.png](attachment:image.png)"
      ]
    },
    {
      "cell_type": "code",
      "metadata": {
        "id": "EFqUPMRqnYs-"
      },
      "source": [
        "max_iterations = 1000\n",
        "costList = []\n",
        "theta0 = 0\n",
        "theta1 = 0\n",
        "for i in range(max_iterations):\n",
        "    hypothesis = theta0 + theta1 * x\n",
        "    error = hypothesis - y\n",
        "    cost = np.sum(((error)**2))/len(x)\n",
        "    costList.append(cost)\n",
        "    gradient_theta0 = (1/len(x))*sum(error)\n",
        "    gradient_theta1 = (1/len(x))*sum(error * x)\n",
        "    theta0 = theta0 - learing_rate * gradient_theta0\n",
        "    theta1 = theta1 - learing_rate * gradient_theta1\n",
        "    if((gradient_theta0**2 + gradient_theta1**2) < 1e-3):\n",
        "        print(\"it took {} iterations\".format(i))\n",
        "        break"
      ],
      "execution_count": null,
      "outputs": []
    },
    {
      "cell_type": "markdown",
      "metadata": {
        "id": "aBcox4wenYs-"
      },
      "source": [
        "#### Predict y values using the LR equation\n",
        "##### h(x)= theta_0 + theta_1 * x"
      ]
    },
    {
      "cell_type": "code",
      "metadata": {
        "id": "Wtd_LqSbnYs-"
      },
      "source": [
        "hypothesis = theta0 + theta1 * x"
      ],
      "execution_count": null,
      "outputs": []
    },
    {
      "cell_type": "markdown",
      "metadata": {
        "id": "TqZTkRWanYs-"
      },
      "source": [
        "#### Plot  LR equation output (fitted line) with the original data (scatter plot of X,y)"
      ]
    },
    {
      "cell_type": "code",
      "metadata": {
        "scrolled": false,
        "id": "fW0NUaJtnYs-",
        "outputId": "014e00be-e662-45f7-9052-713884b330a7"
      },
      "source": [
        "plt.scatter(x, y)\n",
        "yplot = theta0 + theta1 * x\n",
        "plt.plot(x, yplot, 'g')"
      ],
      "execution_count": null,
      "outputs": [
        {
          "output_type": "execute_result",
          "data": {
            "text/plain": [
              "[<matplotlib.lines.Line2D at 0x1e6bc0aa430>]"
            ]
          },
          "metadata": {
            "tags": []
          },
          "execution_count": 51
        },
        {
          "output_type": "display_data",
          "data": {
            "image/png": "[encoded data removed]",
            "text/plain": [
              "<Figure size 432x288 with 1 Axes>"
            ]
          },
          "metadata": {
            "tags": [],
            "needs_background": "light"
          }
        }
      ]
    },
    {
      "cell_type": "markdown",
      "metadata": {
        "id": "WqUhFrtwnYs_"
      },
      "source": [
        "#### Use R2 score to evaluate LR equation output\n",
        "![image.png](attachment:image.png)\n",
        "![image-2.png](attachment:image-2.png)\n",
        "![image-3.png](attachment:image-3.png)\n",
        "https://en.wikipedia.org/wiki/Coefficient_of_determination"
      ]
    },
    {
      "cell_type": "code",
      "metadata": {
        "id": "uvH8FAvYnYs_",
        "outputId": "ffeab760-876b-44a4-c88f-28055d72652f"
      },
      "source": [
        "r2_score(y, hypothesis)"
      ],
      "execution_count": null,
      "outputs": [
        {
          "output_type": "execute_result",
          "data": {
            "text/plain": [
              "0.8211776152244865"
            ]
          },
          "metadata": {
            "tags": []
          },
          "execution_count": 16
        }
      ]
    },
    {
      "cell_type": "markdown",
      "metadata": {
        "id": "_CnMjZ2RnYs_"
      },
      "source": [
        "## Plot loss function\n",
        "### Repeat your last vectorized implementaion version and save loss for each iteration (epoch)"
      ]
    },
    {
      "cell_type": "markdown",
      "metadata": {
        "id": "sLMDW9gGnYs_"
      },
      "source": [
        "### Plot loss vs. iterations"
      ]
    },
    {
      "cell_type": "code",
      "metadata": {
        "id": "EWYuTLjpnYs_",
        "outputId": "0d536450-f990-4ca9-dc22-9d4375efbebb"
      },
      "source": [
        "plt.plot(costList)\n",
        "plt.title(\"Loss vs. iterations\")\n",
        "plt.xlabel(\"iterations\")\n",
        "plt.ylabel(\"Loss\")\n",
        "plt.show()"
      ],
      "execution_count": null,
      "outputs": [
        {
          "output_type": "display_data",
          "data": {
            "image/png": "[encoded data removed]",
            "text/plain": [
              "<Figure size 432x288 with 1 Axes>"
            ]
          },
          "metadata": {
            "tags": [],
            "needs_background": "light"
          }
        }
      ]
    },
    {
      "cell_type": "markdown",
      "metadata": {
        "id": "dKz2I7HCnYs_"
      },
      "source": [
        "## Multivariate LR"
      ]
    },
    {
      "cell_type": "markdown",
      "metadata": {
        "id": "9uTf7IKgnYs_"
      },
      "source": [
        "#### Read MultipleLR csv file into numpy array  (check your data)\n",
        "##### Data source\n",
        "https://college.cengage.com/mathematics/brase/understandable_statistics/7e/students/datasets/slr/frames/frame.html\n"
      ]
    },
    {
      "cell_type": "code",
      "metadata": {
        "id": "ETK6tkixnYtA"
      },
      "source": [
        "dataMulti = np.genfromtxt(\"MultipleLR.csv\", delimiter=',')"
      ],
      "execution_count": null,
      "outputs": []
    },
    {
      "cell_type": "code",
      "metadata": {
        "id": "Jrv3_KqDnYtA",
        "outputId": "35bd4b68-f35d-41b4-e6b2-dac06e0e0b62"
      },
      "source": [
        "xtemp = dataMulti[:,:-1]\n",
        "yMulti = dataMulti[:, -1]\n",
        "xMulti = np.c_[np.ones((len(xtemp),1)),xtemp]\n",
        "learing_rateMulti = 0.0001\n",
        "print(\"x shape \" ,xMulti.shape)\n",
        "print(\"y shape \", yMulti.shape)"
      ],
      "execution_count": null,
      "outputs": [
        {
          "output_type": "stream",
          "text": [
            "x shape  (25, 4)\n",
            "y shape  (25,)\n"
          ],
          "name": "stdout"
        }
      ]
    },
    {
      "cell_type": "markdown",
      "metadata": {
        "id": "xfqICukUnYtA"
      },
      "source": [
        "#### Predict y values using the LR equation\n",
        "##### h(x)= theta_0 + theta_1 * x1 + theta_2 * x2 + theta_3 * x3"
      ]
    },
    {
      "cell_type": "code",
      "metadata": {
        "id": "kPQSnLZrnYtA"
      },
      "source": [
        "thetas = np.zeros(4)\n",
        "losses = []\n",
        "for i in range(1000):\n",
        "    hypothesisMulti = xMulti @ thetas\n",
        "    errorMulti = hypothesisMulti - yMulti\n",
        "    lossMulti = sum((errorMulti**2))/xMulti.shape[0]\n",
        "    losses.append(lossMulti)\n",
        "    gradientMulti = (xMulti.T @ errorMulti)/xMulti.shape[0]\n",
        "    thetas = thetas - learing_rateMulti * gradientMulti\n",
        "    if(np.linalg.norm(thetas) < 1e-3):\n",
        "        print(\"it took {} iterations\".format(i))\n",
        "        break"
      ],
      "execution_count": null,
      "outputs": []
    },
    {
      "cell_type": "markdown",
      "metadata": {
        "id": "Y-wA-tgYnYtA"
      },
      "source": [
        "### Plot loss vs. iterations"
      ]
    },
    {
      "cell_type": "code",
      "metadata": {
        "scrolled": false,
        "id": "LbHqT6VHnYtD",
        "outputId": "8580bd35-044a-489d-b48f-1c3617f737c6"
      },
      "source": [
        "plt.plot(losses)\n",
        "plt.show()"
      ],
      "execution_count": null,
      "outputs": [
        {
          "output_type": "display_data",
          "data": {
            "image/png": "[encoded data removed]",
            "text/plain": [
              "<Figure size 432x288 with 1 Axes>"
            ]
          },
          "metadata": {
            "tags": [],
            "needs_background": "light"
          }
        }
      ]
    },
    {
      "cell_type": "markdown",
      "metadata": {
        "id": "0lU9K1UJnYtE"
      },
      "source": [
        "#### Use R2 score to evaluate LR equation output"
      ]
    },
    {
      "cell_type": "code",
      "metadata": {
        "id": "qB0I9P3enYtE",
        "outputId": "77afaf11-c146-43cf-fe91-3e9840fabc83"
      },
      "source": [
        "r2_score(yMulti, hypothesisMulti)"
      ],
      "execution_count": null,
      "outputs": [
        {
          "output_type": "execute_result",
          "data": {
            "text/plain": [
              "0.9886840848834451"
            ]
          },
          "metadata": {
            "tags": []
          },
          "execution_count": 39
        }
      ]
    },
    {
      "cell_type": "markdown",
      "metadata": {
        "id": "rdKTFH5SnYtE"
      },
      "source": [
        "# Bonus\n",
        "## LR Using sklearn"
      ]
    },
    {
      "cell_type": "markdown",
      "metadata": {
        "id": "BrC_LSRTnYtE"
      },
      "source": [
        "### Single Variable"
      ]
    },
    {
      "cell_type": "markdown",
      "metadata": {
        "id": "gGHKkwotnYtF"
      },
      "source": [
        "#### Build a LR model usin linearmodel.LinearRegression() from sklearn library\n",
        "#### Train the model (fit the model to the training data)"
      ]
    },
    {
      "cell_type": "code",
      "metadata": {
        "id": "jf5tcPmYnYtF"
      },
      "source": [
        "xModel = x.reshape(-1,1)\n",
        "yModel = y.reshape(-1,1)\n",
        "model = LinearRegression().fit(xModel,yModel)"
      ],
      "execution_count": null,
      "outputs": []
    },
    {
      "cell_type": "markdown",
      "metadata": {
        "id": "gWZyqFBgnYtF"
      },
      "source": [
        "#### Predict y values using the trained model"
      ]
    },
    {
      "cell_type": "code",
      "metadata": {
        "id": "AjMW2IcknYtF"
      },
      "source": [
        "y_pred = model.predict(xModel)"
      ],
      "execution_count": null,
      "outputs": []
    },
    {
      "cell_type": "markdown",
      "metadata": {
        "id": "S0Z-OdbCnYtF"
      },
      "source": [
        "#### Plot model output (fitted line) with the original data (scatter plot of X,y)"
      ]
    },
    {
      "cell_type": "code",
      "metadata": {
        "id": "yUrSdZyRnYtF",
        "outputId": "da4ead13-f946-47b0-e4c3-eb2e019b2e33"
      },
      "source": [
        "plt.scatter(x, y)\n",
        "plt.plot(x, y_pred, 'g')"
      ],
      "execution_count": null,
      "outputs": [
        {
          "output_type": "execute_result",
          "data": {
            "text/plain": [
              "[<matplotlib.lines.Line2D at 0x1e6bbf25970>]"
            ]
          },
          "metadata": {
            "tags": []
          },
          "execution_count": 52
        },
        {
          "output_type": "display_data",
          "data": {
            "image/png": "[encoded data removed]",
            "text/plain": [
              "<Figure size 432x288 with 1 Axes>"
            ]
          },
          "metadata": {
            "tags": [],
            "needs_background": "light"
          }
        }
      ]
    },
    {
      "cell_type": "markdown",
      "metadata": {
        "id": "2gi-EwXTnYtF"
      },
      "source": [
        "#### Use R2 score to evaluate model output"
      ]
    },
    {
      "cell_type": "code",
      "metadata": {
        "id": "hWm3Kl9GnYtG",
        "outputId": "a0c6f6a3-bcb1-4149-ba06-ca383fe1be1c"
      },
      "source": [
        "print(r2_score(yModel,y_pred))"
      ],
      "execution_count": null,
      "outputs": [
        {
          "output_type": "stream",
          "text": [
            "0.8213156778363777\n"
          ],
          "name": "stdout"
        }
      ]
    },
    {
      "cell_type": "markdown",
      "metadata": {
        "id": "81R3HA1DnYtG"
      },
      "source": [
        "### Repeat for Mulivariate"
      ]
    },
    {
      "cell_type": "code",
      "metadata": {
        "id": "mZf0RUUSnYtG",
        "outputId": "8475f8b1-ad66-45c2-d96a-bafca8b1d770"
      },
      "source": [
        "modelMulti = LinearRegression().fit(xMulti,yMulti)\n",
        "y_predMulti = modelMulti.predict(xMulti)\n",
        "print(r2_score(yMulti,y_predMulti))"
      ],
      "execution_count": null,
      "outputs": [
        {
          "output_type": "stream",
          "text": [
            "0.9896615789448399\n"
          ],
          "name": "stdout"
        }
      ]
    }
  ]
}