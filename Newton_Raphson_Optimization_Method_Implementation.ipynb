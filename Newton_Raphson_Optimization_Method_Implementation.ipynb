{
  "nbformat": 4,
  "nbformat_minor": 0,
  "metadata": {
    "interpreter": {
      "hash": "de8ed14e10c7a58008b18c18e654ce9db1d8e93561914c6007824b24847cd0f4"
    },
    "kernelspec": {
      "display_name": "Python 3.9.5 64-bit",
      "name": "python3"
    },
    "language_info": {
      "codemirror_mode": {
        "name": "ipython",
        "version": 3
      },
      "file_extension": ".py",
      "mimetype": "text/x-python",
      "name": "python",
      "nbconvert_exporter": "python",
      "pygments_lexer": "ipython3",
      "version": "3.9.5"
    },
    "orig_nbformat": 4,
    "colab": {
      "name": "Newton-Raphson Optimization Method Implementation.ipynb",
      "provenance": [],
      "include_colab_link": true
    }
  },
  "cells": [
    {
      "cell_type": "markdown",
      "metadata": {
        "id": "view-in-github",
        "colab_type": "text"
      },
      "source": [
        "<a href=\"https://colab.research.google.com/github/ahmedelhodaiby/Numerical-Optimization-ITI/blob/main/Newton_Raphson_Optimization_Method_Implementation.ipynb\" target=\"_parent\"><img src=\"https://colab.research.google.com/assets/colab-badge.svg\" alt=\"Open In Colab\"/></a>"
      ]
    },
    {
      "cell_type": "code",
      "metadata": {
        "id": "lmQEeRfbgHVB"
      },
      "source": [
        "import numpy as np"
      ],
      "execution_count": 6,
      "outputs": []
    },
    {
      "cell_type": "code",
      "metadata": {
        "id": "FpTEVQWMgHVC"
      },
      "source": [
        "def f(x):\n",
        "    return x*np.cos(x)-x**2"
      ],
      "execution_count": 7,
      "outputs": []
    },
    {
      "cell_type": "code",
      "metadata": {
        "id": "UkB_OzQ8gHVD"
      },
      "source": [
        "def df(x):\n",
        "    return np.cos(x)-x*np.sin(x)-x*2"
      ],
      "execution_count": 8,
      "outputs": []
    },
    {
      "cell_type": "code",
      "metadata": {
        "id": "hiHmpedVgHVD"
      },
      "source": [
        "def newton_algo(function, f_derivative, p, tolerance):\n",
        "    global i\n",
        "    i=0\n",
        "    x1 = p\n",
        "    x2 = x1 - function(x1)/f_derivative(x1)\n",
        "    print(\"x{0}= {1}\".format(i, round(x2,8)))\n",
        "    while abs(x2-x1) > tolerance and i < 1000:\n",
        "        i+=1\n",
        "        x1 = x2\n",
        "        x2 = x1 - function(x1)/f_derivative(x1)\n",
        "        print(\"x{0}= {1}\".format(i, round(x2,8)))\n",
        "    print(\"Algorithm took \", i, \" iterations\")\n",
        "    return round(x2,8)"
      ],
      "execution_count": 9,
      "outputs": []
    },
    {
      "cell_type": "code",
      "metadata": {
        "id": "MgivDTQZgHVE",
        "outputId": "60065021-009c-4820-bf87-1d5bcc7980a7",
        "colab": {
          "base_uri": "https://localhost:8080/"
        }
      },
      "source": [
        "print(\"The solution is \", newton_algo(f,df,1,1e-6))"
      ],
      "execution_count": 10,
      "outputs": [
        {
          "output_type": "stream",
          "text": [
            "x0= 0.80023294\n",
            "x1= 0.7440944\n",
            "x2= 0.73912407\n",
            "x3= 0.73908514\n",
            "x4= 0.73908513\n",
            "Algorithm took  4  iterations\n",
            "The solution is  0.73908513\n"
          ],
          "name": "stdout"
        }
      ]
    },
    {
      "cell_type": "code",
      "metadata": {
        "id": "4LrcmDnHgHVF"
      },
      "source": [
        ""
      ],
      "execution_count": 10,
      "outputs": []
    }
  ]
}