{
  "nbformat": 4,
  "nbformat_minor": 0,
  "metadata": {
    "colab": {
      "name": "Newton-Raphson algorithm.ipynb",
      "provenance": [],
      "authorship_tag": "ABX9TyMefgHwPHg9fr+dAugoRwD6",
      "include_colab_link": true
    },
    "kernelspec": {
      "name": "python3",
      "display_name": "Python 3"
    },
    "language_info": {
      "name": "python"
    }
  },
  "cells": [
    {
      "cell_type": "markdown",
      "metadata": {
        "id": "view-in-github",
        "colab_type": "text"
      },
      "source": [
        "<a href=\"https://colab.research.google.com/github/ahmedelhodaiby/Numerical-Optimization-ITI/blob/main/Newton_Raphson_algorithm.ipynb\" target=\"_parent\"><img src=\"https://colab.research.google.com/assets/colab-badge.svg\" alt=\"Open In Colab\"/></a>"
      ]
    },
    {
      "cell_type": "code",
      "metadata": {
        "id": "Y2-1CsD4Ku1Q"
      },
      "source": [
        "import numpy as np"
      ],
      "execution_count": 1,
      "outputs": []
    },
    {
      "cell_type": "code",
      "metadata": {
        "id": "Tdx2j57NK0GC"
      },
      "source": [
        "def f(x):\n",
        "    return x*np.cos(x)-x**2"
      ],
      "execution_count": 2,
      "outputs": []
    },
    {
      "cell_type": "code",
      "metadata": {
        "id": "Dcqkn88LK0RC"
      },
      "source": [
        "def df(x):\n",
        "    return np.cos(x)-x*np.sin(x)-x*2"
      ],
      "execution_count": 3,
      "outputs": []
    },
    {
      "cell_type": "code",
      "metadata": {
        "id": "WHkdkwdgPcIA"
      },
      "source": [
        "def newton_algo(function, f_derivative, p, tolerance):\n",
        "    global i\n",
        "    i=0\n",
        "    x1 = p\n",
        "    x2 = x1 - function(x1)/f_derivative(x1)\n",
        "    print(\"x0= {0}\".format(round(x2,8)))\n",
        "    while abs(x2-x1) > tolerance and i < 1000:\n",
        "        i+=1\n",
        "        x1 = x2\n",
        "        x2 = x1 - function(x1)/f_derivative(x1)\n",
        "        print(\"x{0}= {1}\".format(i, round(x2,8)))\n",
        "    return round(x2,8)"
      ],
      "execution_count": 4,
      "outputs": []
    },
    {
      "cell_type": "code",
      "metadata": {
        "colab": {
          "base_uri": "https://localhost:8080/"
        },
        "id": "00-b6oLtK5Jj",
        "outputId": "b0e37658-f67d-485c-8327-d60f59968a69"
      },
      "source": [
        "print(newton_algo(f,df,1,1e-6))\n",
        "print(\"Algorithm took \", i, \" iterations\")"
      ],
      "execution_count": 5,
      "outputs": [
        {
          "output_type": "stream",
          "text": [
            "x0= 0.80023294\n",
            "x1= 0.7440944\n",
            "x2= 0.73912407\n",
            "x3= 0.73908514\n",
            "x4= 0.73908513\n",
            "0.73908513\n",
            "Algorithm took  4  iterations\n"
          ],
          "name": "stdout"
        }
      ]
    }
  ]
}